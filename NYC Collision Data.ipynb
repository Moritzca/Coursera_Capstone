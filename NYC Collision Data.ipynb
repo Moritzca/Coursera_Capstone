{
 "cells": [
  {
   "cell_type": "markdown",
   "metadata": {
    "collapsed": true
   },
   "source": [
    "# NYC Colission Data Analysis\n"
   ]
  },
  {
   "cell_type": "markdown",
   "metadata": {},
   "source": [
    "### 1. Introduction / Business Probelm"
   ]
  },
  {
   "cell_type": "markdown",
   "metadata": {},
   "source": [
    "In the following Data Sciene Project I will be analysing NYC Collision Data. The aim of the project will be to analyse what types of vehicles and which causes of accidents result in which types of accidents. Hopefully a pattern will emerge revealing insight into how these two elements impact traffic security and collision severity. This information could be greatly usefull to the city traffic department and aid them in further specifying which issues in traffic security could have the largest impact, if resolved. For example if one specific type of vehicles involvment in accidents cuases more cyclist deaths, then this type of vehicle could be restricted from certain roads. Another exmaple could be counteracting one causes high proportion of fatal deaths by a public service campaign. It is of paramount importance to traffic managment to keep drivers, cyclists and pedestrians as safe as possible and therefore this insight could directly help them in pursuing this goal. I am aware, that the analysis and the data it is based upon are limited and non-comprehensive or -exhaustive of the issue. Nonetheless being able to link vehicle type and accident causes to resulting insuries and fatalities can aid in comprehending the issues in traffic safety and ultimatly make the city a safer place"
   ]
  },
  {
   "cell_type": "markdown",
   "metadata": {},
   "source": [
    "### 2. Data"
   ]
  },
  {
   "cell_type": "markdown",
   "metadata": {},
   "source": [
    "The Data I will be using is provided by the City of New York (https://data.cityofnewyork.us/NYC-BigApps/collisions-csv/hhsa-x92p). In this dataset includes 1.048.575 collisions having occured in NYC from April 2015 to August 2019. For each accident the data includes:\n",
    "- the date & time of occurrence\n",
    "- the borough & zip code it occured in\n",
    "- the number of persons killed (by pedestrian, cyclist, motorist)\n",
    "- the number of persons injured (by pedestrian, cyclist, motorist)\n",
    "- the cause of accident for each vehicle invovlved\n",
    "- the type of vehicle for each vehicle involved\n",
    "\n",
    "An example would be an accident that occured on August 6, 2019 in Manhattan in which an SUV and a bike collided due to both drivers being distracted and resulting in one cyclist being injured. For each unique incident this dataset allows an estimation of the severity (through injuries and casualties) and possible contributing factors (cause of accident and vehicle type). It also includes metadata like time and place which could also hold insights into traffic security accross the city."
   ]
  },
  {
   "cell_type": "code",
   "execution_count": null,
   "metadata": {},
   "outputs": [],
   "source": []
  }
 ],
 "metadata": {
  "kernelspec": {
   "display_name": "Python 3.6",
   "language": "python",
   "name": "python3"
  },
  "language_info": {
   "codemirror_mode": {
    "name": "ipython",
    "version": 3
   },
   "file_extension": ".py",
   "mimetype": "text/x-python",
   "name": "python",
   "nbconvert_exporter": "python",
   "pygments_lexer": "ipython3",
   "version": "3.6.9"
  }
 },
 "nbformat": 4,
 "nbformat_minor": 1
}
