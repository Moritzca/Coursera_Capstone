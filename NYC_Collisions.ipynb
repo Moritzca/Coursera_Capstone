{
 "cells": [
  {
   "cell_type": "code",
   "execution_count": 1,
   "metadata": {},
   "outputs": [],
   "source": [
    "import pandas as pd\n",
    "import matplotlib.pyplot as plt\n",
    "\n",
    "#Load SQL Extension\n",
    "%load_ext sql"
   ]
  },
  {
   "cell_type": "code",
   "execution_count": 2,
   "metadata": {},
   "outputs": [
    {
     "data": {
      "text/plain": [
       "'Connected: rkx74274@BLUDB'"
      ]
     },
     "execution_count": 2,
     "metadata": {},
     "output_type": "execute_result"
    }
   ],
   "source": [
    "#Connect to SQL Dataframe\n",
    "%sql ibm_db_sa://rkx74274:gbvkl3c9g0d+6cjz@dashdb-txn-sbox-yp-lon02-04.services.eu-gb.bluemix.net:50000/BLUDB"
   ]
  },
  {
   "cell_type": "markdown",
   "metadata": {},
   "source": [
    "#### Calculate share of the \"severity\" for each type of vehicle"
   ]
  },
  {
   "cell_type": "code",
   "execution_count": 19,
   "metadata": {},
   "outputs": [
    {
     "name": "stdout",
     "output_type": "stream",
     "text": [
      " * ibm_db_sa://rkx74274:***@dashdb-txn-sbox-yp-lon02-04.services.eu-gb.bluemix.net:50000/BLUDB\n",
      "Done.\n",
      " * ibm_db_sa://rkx74274:***@dashdb-txn-sbox-yp-lon02-04.services.eu-gb.bluemix.net:50000/BLUDB\n",
      "Done.\n",
      "          Vehicle  severity   share\n",
      "3            Bike  0.880633   0.821\n",
      "5      Motorcycle  0.640884   0.724\n",
      "9            Taxi  0.341951   3.752\n",
      "11          Sedan  0.303946  36.750\n",
      "12            SUV  0.302890  48.506\n",
      "13            Bus  0.292737   1.363\n",
      "19            Van  0.232727   0.550\n",
      "22  Pick-up Truck  0.209886   2.549\n",
      "25        Tractor  0.138705   0.757\n",
      "26      Box Truck  0.137277   1.741\n"
     ]
    }
   ],
   "source": [
    "#retrive average severity and share of incidents by vehicle type\n",
    "Vehicle_sev = %sql select VEHICLE_1, SUM(SEVERITY)/COUNT(SEVERITY) from COLLISIONS group by VEHICLE_1 order by SUM(SEVERITY)/COUNT(SEVERITY) desc\n",
    "Vehicle_rel = %sql select COUNT(Vehicle_1)/1000 from COLLISIONS group by vehicle_1 order by SUM(SEVERITY)/COUNT(SEVERITY) desc\n",
    "\n",
    "#create dataframe\n",
    "df_vehicle = pd.DataFrame(Vehicle_sev, columns=['Vehicle','severity'])\n",
    "df_vehicle_rel = pd.DataFrame(Vehicle_rel, columns=['share'])\n",
    "df_vehicle['share'] = df_vehicle_rel\n",
    "\n",
    "#parse to float\n",
    "df_vehicle = df_vehicle.astype({\"severity\": float, \"share\": float})\n",
    "\n",
    "#option to filter only realtive share over 0.5%\n",
    "df_vehicle = df_vehicle[df_vehicle.share > 0.5]\n",
    "\n",
    "print(df_vehicle)"
   ]
  },
  {
   "cell_type": "code",
   "execution_count": 20,
   "metadata": {},
   "outputs": [
    {
     "data": {
      "image/png": "[encoded data removed]",
      "text/plain": [
       "<Figure size 432x288 with 2 Axes>"
      ]
     },
     "metadata": {
      "needs_background": "light"
     },
     "output_type": "display_data"
    }
   ],
   "source": [
    "#create plot\n",
    "fig = plt.figure()\n",
    "ax = fig.add_subplot(111)\n",
    "ax2 = ax.twinx()\n",
    "width = 0.3\n",
    "\n",
    "#link datasets\n",
    "df_vehicle.severity.plot(kind='bar', color='red', ax=ax, width=width, position=1)\n",
    "df_vehicle.share.plot(kind='bar', color='blue', ax=ax2, width=width, position=0)\n",
    "ax.set_ylabel('Severity')\n",
    "ax2.set_ylabel('Share')\n",
    "\n",
    "plt.show()"
   ]
  },
  {
   "cell_type": "code",
   "execution_count": 15,
   "metadata": {},
   "outputs": [
    {
     "name": "stdout",
     "output_type": "stream",
     "text": [
      " * ibm_db_sa://rkx74274:***@dashdb-txn-sbox-yp-lon02-04.services.eu-gb.bluemix.net:50000/BLUDB\n",
      "Done.\n",
      " * ibm_db_sa://rkx74274:***@dashdb-txn-sbox-yp-lon02-04.services.eu-gb.bluemix.net:50000/BLUDB\n",
      "Done.\n",
      "                           Vehicle  severity   share\n",
      "9      Traffic Control Disregarded  0.714754   1.525\n",
      "10                    Unsafe Speed  0.678388   1.365\n",
      "19   Failure to Yield Right-of-Way  0.487709   6.631\n",
      "29           Following Too Closely  0.364450   9.052\n",
      "30  Reaction to Uninvolved Vehicle  0.350427   1.521\n",
      "33             Driver Inexperience  0.327970   1.616\n",
      "34  Driver Inattention/Distraction  0.323839  26.507\n",
      "37                 Other Vehicular  0.293750   3.040\n",
      "40                     Unspecified  0.246342  23.236\n",
      "42              Turning Improperly  0.238183   2.179\n",
      "47            Unsafe Lane Changing  0.173583   3.157\n",
      "48  Passing or Lane Usage Improper  0.171442   4.363\n",
      "51                Backing Unsafely  0.112234   4.553\n",
      "52             Passing Too Closely  0.069779   4.156\n"
     ]
    }
   ],
   "source": [
    "#retrive average severity and share of incidents by cause\n",
    "Cause_sev = %sql select FACTOR_1, SUM(SEVERITY)/COUNT(SEVERITY) from COLLISIONS group by FACTOR_1 order by SUM(SEVERITY)/COUNT(SEVERITY) desc\n",
    "Cause_rel = %sql select COUNT(FACTOR_1)/1000 from COLLISIONS group by FACTOR_1 order by SUM(SEVERITY)/COUNT(SEVERITY) desc\n",
    "\n",
    "#create dataframe\n",
    "df_cause = pd.DataFrame(Cause_sev, columns=['Vehicle','severity'])\n",
    "df_cause_rel = pd.DataFrame(Cause_rel, columns=['share'])\n",
    "df_cause['share'] = df_cause_rel\n",
    "df_cause = df_cause.astype({\"severity\": float, \"share\": float})\n",
    "\n",
    "#option to filter only realtive share over 1%\n",
    "df_cause = df_cause[df_cause.share > 1]\n",
    "\n",
    "print(df_cause)"
   ]
  },
  {
   "cell_type": "code",
   "execution_count": 16,
   "metadata": {},
   "outputs": [
    {
     "data": {
      "image/png": "[encoded data removed]",
      "text/plain": [
       "<Figure size 432x288 with 2 Axes>"
      ]
     },
     "metadata": {
      "needs_background": "light"
     },
     "output_type": "display_data"
    }
   ],
   "source": [
    "#create plot\n",
    "fig = plt.figure()\n",
    "ax = fig.add_subplot(111)\n",
    "ax2 = ax.twinx()\n",
    "width = 0.3\n",
    "\n",
    "#link to dataset\n",
    "df_cause.severity.plot(kind='bar', color='red', ax=ax, width=width, position=1)\n",
    "df_cause.share.plot(kind='bar', color='blue', ax=ax2, width=width, position=0)\n",
    "ax.set_ylabel('Severity')\n",
    "ax2.set_ylabel('Share')\n",
    "\n",
    "plt.show()"
   ]
  },
  {
   "cell_type": "code",
   "execution_count": 8,
   "metadata": {},
   "outputs": [
    {
     "name": "stdout",
     "output_type": "stream",
     "text": [
      " * ibm_db_sa://rkx74274:***@dashdb-txn-sbox-yp-lon02-04.services.eu-gb.bluemix.net:50000/BLUDB\n",
      "Done.\n",
      " * ibm_db_sa://rkx74274:***@dashdb-txn-sbox-yp-lon02-04.services.eu-gb.bluemix.net:50000/BLUDB\n",
      "Done.\n",
      "     Vehicle  severity  share\n",
      "0   00:00:00  0.367160  3.922\n",
      "1   01:00:00  0.384576  1.971\n",
      "2   02:00:00  0.381858  1.367\n",
      "3   03:00:00  0.451372  1.203\n",
      "4   04:00:00  0.436031  1.149\n",
      "5   05:00:00  0.366306  1.294\n",
      "6   06:00:00  0.331010  1.722\n",
      "7   07:00:00  0.306672  2.638\n",
      "8   08:00:00  0.261224  4.655\n",
      "9   09:00:00  0.250232  5.399\n",
      "10  10:00:00  0.216190  5.065\n",
      "11  11:00:00  0.233976  5.133\n",
      "12  12:00:00  0.243209  5.448\n",
      "13  13:00:00  0.268545  5.891\n",
      "14  14:00:00  0.276067  6.234\n",
      "15  15:00:00  0.309255  6.742\n",
      "16  16:00:00  0.297237  6.732\n",
      "17  17:00:00  0.300000  6.990\n",
      "18  18:00:00  0.316179  6.490\n",
      "19  19:00:00  0.326124  5.271\n",
      "20  20:00:00  0.374917  4.537\n",
      "21  21:00:00  0.392120  3.731\n",
      "22  22:00:00  0.393717  3.406\n",
      "23  23:00:00  0.389295  3.008\n"
     ]
    }
   ],
   "source": [
    "#retrive average severity and share of incidents by time\n",
    "Time_sev = %sql select TIME, SUM(SEVERITY)/COUNT(SEVERITY) from COLLISIONS group by TIME order by TIME asc\n",
    "Time_rel = %sql select COUNT(TIME)/1000 from COLLISIONS group by TIME order by TIME asc\n",
    "\n",
    "#create dataframe\n",
    "df_time = pd.DataFrame(Time_sev, columns=['Vehicle','severity'])\n",
    "df_time_rel = pd.DataFrame(Time_rel, columns=['share'])\n",
    "df_time['share'] = df_time_rel\n",
    "df_time = df_time.astype({\"severity\": float, \"share\": float})\n",
    "\n",
    "print(df_time)"
   ]
  },
  {
   "cell_type": "code",
   "execution_count": 9,
   "metadata": {},
   "outputs": [
    {
     "data": {
      "image/png": "[encoded data removed]",
      "text/plain": [
       "<Figure size 432x288 with 2 Axes>"
      ]
     },
     "metadata": {
      "needs_background": "light"
     },
     "output_type": "display_data"
    }
   ],
   "source": [
    "#create plot\n",
    "fig = plt.figure()\n",
    "ax = fig.add_subplot(111)\n",
    "ax2 = ax.twinx()\n",
    "width = 0.3\n",
    "\n",
    "#link to dataset\n",
    "df_time.severity.plot(kind='bar', color='red', ax=ax, width=width, position=1)\n",
    "df_time.share.plot(kind='bar', color='blue', ax=ax2, width=width, position=0)\n",
    "ax.set_ylabel('Severity')\n",
    "ax2.set_ylabel('Share')\n",
    "\n",
    "plt.show()"
   ]
  },
  {
   "cell_type": "code",
   "execution_count": 14,
   "metadata": {},
   "outputs": [
    {
     "name": "stdout",
     "output_type": "stream",
     "text": [
      " * ibm_db_sa://rkx74274:***@dashdb-txn-sbox-yp-lon02-04.services.eu-gb.bluemix.net:50000/BLUDB\n",
      "Done.\n",
      " * ibm_db_sa://rkx74274:***@dashdb-txn-sbox-yp-lon02-04.services.eu-gb.bluemix.net:50000/BLUDB\n",
      "Done.\n",
      "         Vehicle  severity      share\n",
      "0          BRONX  0.298664  19.463495\n",
      "1       BROOKLYN  0.312491  38.950958\n",
      "2      MANHATTAN  0.206703  23.377581\n",
      "3         QUEENS  0.289013  34.887536\n",
      "4  STATEN ISLAND  0.461589   2.783923\n",
      "5           None  0.346467   0.000000\n"
     ]
    }
   ],
   "source": [
    "#retrive average severity and share of incidents by borough\n",
    "Bur_sev = %sql select BOROUGH, SUM(SEVERITY)/COUNT(SEVERITY) from COLLISIONS group by BOROUGH order by BOROUGH asc\n",
    "Bur_rel = %sql select COUNT(BOROUGH)/542.4 from COLLISIONS group by BOROUGH order by BOROUGH asc\n",
    "\n",
    "#create dataframe\n",
    "df_bur = pd.DataFrame(Bur_sev, columns=['Vehicle','severity'])\n",
    "df_bur_rel = pd.DataFrame(Bur_rel, columns=['share'])\n",
    "df_bur['share'] = df_bur_rel\n",
    "df_bur = df_bur.astype({\"severity\": float, \"share\": float})\n",
    "\n",
    "print(df_bur)"
   ]
  },
  {
   "cell_type": "code",
   "execution_count": null,
   "metadata": {},
   "outputs": [],
   "source": []
  }
 ],
 "metadata": {
  "kernelspec": {
   "display_name": "Python",
   "language": "python",
   "name": "conda-env-python-py"
  },
  "language_info": {
   "codemirror_mode": {
    "name": "ipython",
    "version": 3
   },
   "file_extension": ".py",
   "mimetype": "text/x-python",
   "name": "python",
   "nbconvert_exporter": "python",
   "pygments_lexer": "ipython3",
   "version": "3.6.11"
  }
 },
 "nbformat": 4,
 "nbformat_minor": 4
}
