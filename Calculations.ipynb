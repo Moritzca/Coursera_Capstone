{
 "cells": [
  {
   "cell_type": "code",
   "execution_count": 1,
   "metadata": {},
   "outputs": [],
   "source": [
    "import pandas as pd\n",
    "import matplotlib.pyplot as plt\n",
    "\n",
    "#Load SQL Extension\n",
    "%load_ext sql"
   ]
  },
  {
   "cell_type": "code",
   "execution_count": 2,
   "metadata": {},
   "outputs": [
    {
     "data": {
      "text/plain": [
       "'Connected: rkx74274@BLUDB'"
      ]
     },
     "execution_count": 2,
     "metadata": {},
     "output_type": "execute_result"
    }
   ],
   "source": [
    "#Connect to SQL Dataframe\n",
    "%sql ibm_db_sa://rkx74274:gbvkl3c9g0d+6cjz@dashdb-txn-sbox-yp-lon02-04.services.eu-gb.bluemix.net:50000/BLUDB"
   ]
  },
  {
   "cell_type": "markdown",
   "metadata": {},
   "source": [
    "#### Calculate share of the \"severity\" for each type of vehicle"
   ]
  },
  {
   "cell_type": "code",
   "execution_count": 3,
   "metadata": {},
   "outputs": [
    {
     "name": "stdout",
     "output_type": "stream",
     "text": [
      " * ibm_db_sa://rkx74274:***@dashdb-txn-sbox-yp-lon02-04.services.eu-gb.bluemix.net:50000/BLUDB\n",
      "Done.\n",
      " * ibm_db_sa://rkx74274:***@dashdb-txn-sbox-yp-lon02-04.services.eu-gb.bluemix.net:50000/BLUDB\n",
      "Done.\n",
      "          Vehicle  severity   share\n",
      "0           Horse  1.000000   0.001\n",
      "1        E - Bike  0.988235   0.085\n",
      "2         Scooter  0.893805   0.113\n",
      "3            Bike  0.880633   0.821\n",
      "4         Unknown  0.799599   0.499\n",
      "5      Motorcycle  0.640884   0.724\n",
      "6      Dump truck  0.600000   0.005\n",
      "7        Flat bed  0.444444   0.009\n",
      "8          3 Door  0.352941   0.017\n",
      "9            Taxi  0.341951   3.752\n",
      "10    Convertible  0.339483   0.271\n",
      "11          Sedan  0.303946  36.750\n",
      "12            SUV  0.302890  48.506\n",
      "13            Bus  0.292737   1.363\n",
      "14      Limousine  0.288889   0.045\n",
      "15     School Bus  0.285714   0.021\n",
      "16      Tow Truck  0.267442   0.086\n",
      "17      Ambulance  0.266129   0.248\n",
      "18           FDNY  0.238095   0.042\n",
      "19            Van  0.232727   0.550\n",
      "20   Construction  0.230769   0.078\n",
      "21     Dump Truck  0.225464   0.377\n",
      "22  Pick-up Truck  0.209886   2.549\n",
      "23       Flat Bed  0.200837   0.239\n",
      "24           NYPD  0.200000   0.005\n",
      "25        Tractor  0.138705   0.757\n",
      "26      Box Truck  0.137277   1.741\n",
      "27          Truck  0.135135   0.222\n",
      "28       Delivery  0.134328   0.067\n",
      "29        Trailer  0.028571   0.035\n",
      "30  Armored Truck  0.000000   0.020\n"
     ]
    }
   ],
   "source": [
    "#retrive average severity and share of incidents by vehicle type\n",
    "Vehicle_sev = %sql select VEHICLE_1, SUM(SEVERITY)/COUNT(SEVERITY) from COLLISIONS group by VEHICLE_1 order by SUM(SEVERITY)/COUNT(SEVERITY) desc\n",
    "Vehicle_rel = %sql select COUNT(Vehicle_1)/1000 from COLLISIONS group by vehicle_1 order by SUM(SEVERITY)/COUNT(SEVERITY) desc\n",
    "\n",
    "#create dataframe\n",
    "df_vehicle = pd.DataFrame(Vehicle_sev, columns=['Vehicle','severity'])\n",
    "df_vehicle_rel = pd.DataFrame(Vehicle_rel, columns=['share'])\n",
    "df_vehicle['share'] = df_vehicle_rel\n",
    "\n",
    "#parse to float\n",
    "df_vehicle = df_vehicle.astype({\"severity\": float, \"share\": float})\n",
    "print(df_vehicle)\n",
    "\n",
    "#option to filter only realtive share over 0.5%\n",
    "#df_vehicle = df_vehicle[df_vehicle.share > 0.5]"
   ]
  },
  {
   "cell_type": "code",
   "execution_count": 4,
   "metadata": {},
   "outputs": [
    {
     "data": {
      "image/png": "[encoded data removed]",
      "text/plain": [
       "<Figure size 432x288 with 2 Axes>"
      ]
     },
     "metadata": {
      "needs_background": "light"
     },
     "output_type": "display_data"
    }
   ],
   "source": [
    "#create plot\n",
    "fig = plt.figure()\n",
    "ax = fig.add_subplot(111)\n",
    "ax2 = ax.twinx()\n",
    "width = 0.3\n",
    "\n",
    "#link datasets\n",
    "df_vehicle.severity.plot(kind='bar', color='red', ax=ax, width=width, position=1)\n",
    "df_vehicle.share.plot(kind='bar', color='blue', ax=ax2, width=width, position=0)\n",
    "ax.set_ylabel('Severity')\n",
    "ax2.set_ylabel('Share')\n",
    "\n",
    "plt.show()"
   ]
  },
  {
   "cell_type": "code",
   "execution_count": 5,
   "metadata": {},
   "outputs": [
    {
     "name": "stdout",
     "output_type": "stream",
     "text": [
      " * ibm_db_sa://rkx74274:***@dashdb-txn-sbox-yp-lon02-04.services.eu-gb.bluemix.net:50000/BLUDB\n",
      "Done.\n",
      " * ibm_db_sa://rkx74274:***@dashdb-txn-sbox-yp-lon02-04.services.eu-gb.bluemix.net:50000/BLUDB\n",
      "Done.\n",
      "                             Vehicle  severity   share\n",
      "0             Other Lighting Defects  2.000000   0.005\n",
      "1       Shoulders Defective/Improper  2.000000   0.001\n",
      "2               Headlights Defective  1.666667   0.003\n",
      "3                 Lost Consciousness  1.233645   0.107\n",
      "4                             Illnes  1.100000   0.100\n",
      "5                Physical Disability  0.837838   0.037\n",
      "6                               None  0.825000   0.000\n",
      "7            Other Electronic Device  0.750000   0.008\n",
      "8   Pedestrian/Bicyclist/Other Pedes  0.747423   0.582\n",
      "9        Traffic Control Disregarded  0.714754   1.525\n",
      "10                      Unsafe Speed  0.678388   1.365\n",
      "11  Using On Board Navigation Device  0.666667   0.015\n",
      "12                Eating or Drinking  0.636364   0.011\n",
      "13                   Drugs (illegal)  0.622951   0.061\n",
      "14                  Brakes Defective  0.611549   0.381\n",
      "15                 Pavement Slippery  0.530303   0.396\n",
      "16               Alcohol Involvement  0.530133   0.979\n",
      "17                   Fatigued/Drowsy  0.500000   0.084\n",
      "18        Listening/Using Headphones  0.500000   0.004\n",
      "19     Failure to Yield Right-of-Way  0.487709   6.631\n",
      "20      Aggressive Driving/Road Rage  0.485327   0.443\n",
      "21                       Fell Asleep  0.482085   0.307\n",
      "22            Cell Phone (hand-Held)  0.481481   0.027\n",
      "23                             Glare  0.473333   0.150\n",
      "24  Traffic Control Device Improper/  0.444444   0.027\n",
      "25                  Steering Failure  0.400000   0.145\n",
      "26                Pavement Defective  0.372881   0.118\n",
      "27           View Obstructed/Limited  0.372365   0.854\n",
      "28             Accelerator Defective  0.367347   0.049\n",
      "29             Following Too Closely  0.364450   9.052\n",
      "30    Reaction to Uninvolved Vehicle  0.350427   1.521\n",
      "31           Outside Car Distraction  0.336323   0.223\n",
      "32                    Tinted Windows  0.333333   0.003\n",
      "33               Driver Inexperience  0.327970   1.616\n",
      "34    Driver Inattention/Distraction  0.323839  26.507\n",
      "35        Driverless/Runaway Vehicle  0.295455   0.088\n",
      "36           Tire Failure/Inadequate  0.294964   0.139\n",
      "37                   Other Vehicular  0.293750   3.040\n",
      "38  Lane Marking Improper/Inadequate  0.275862   0.058\n",
      "39               Tow Hitch Defective  0.266667   0.015\n",
      "40                       Unspecified  0.246342  23.236\n",
      "41             Passenger Distraction  0.242604   0.338\n",
      "42                Turning Improperly  0.238183   2.179\n",
      "43                    Animals Action  0.203540   0.113\n",
      "44             Failure to Keep Right  0.201681   0.119\n",
      "45                 Vehicle Vandalism  0.200000   0.010\n",
      "46                Obstruction/Debris  0.191860   0.172\n",
      "47              Unsafe Lane Changing  0.173583   3.157\n",
      "48    Passing or Lane Usage Improper  0.171442   4.363\n",
      "49           Prescription Medication  0.166667   0.006\n",
      "50           Cell Phone (hands-free)  0.125000   0.008\n",
      "51                  Backing Unsafely  0.112234   4.553\n",
      "52               Passing Too Closely  0.069779   4.156\n",
      "53                 Oversized Vehicle  0.045763   0.590\n",
      "54             Windshield Inadequate  0.000000   0.001\n"
     ]
    }
   ],
   "source": [
    "#retrive average severity and share of incidents by cause\n",
    "Cause_sev = %sql select FACTOR_1, SUM(SEVERITY)/COUNT(SEVERITY) from COLLISIONS group by FACTOR_1 order by SUM(SEVERITY)/COUNT(SEVERITY) desc\n",
    "Cause_rel = %sql select COUNT(FACTOR_1)/1000 from COLLISIONS group by FACTOR_1 order by SUM(SEVERITY)/COUNT(SEVERITY) desc\n",
    "\n",
    "#create dataframe\n",
    "df_cause = pd.DataFrame(Cause_sev, columns=['Vehicle','severity'])\n",
    "df_cause_rel = pd.DataFrame(Cause_rel, columns=['share'])\n",
    "df_cause['share'] = df_cause_rel\n",
    "df_cause = df_cause.astype({\"severity\": float, \"share\": float})\n",
    "\n",
    "#option to filter only realtive share over 1%\n",
    "#df_cause = df_cause[df_cause.share > 1]\n",
    "\n",
    "print(df_cause)"
   ]
  },
  {
   "cell_type": "code",
   "execution_count": 7,
   "metadata": {},
   "outputs": [
    {
     "data": {
      "image/png": "[encoded data removed]",
      "text/plain": [
       "<Figure size 432x288 with 2 Axes>"
      ]
     },
     "metadata": {
      "needs_background": "light"
     },
     "output_type": "display_data"
    }
   ],
   "source": [
    "#create plot\n",
    "fig = plt.figure()\n",
    "ax = fig.add_subplot(111)\n",
    "ax2 = ax.twinx()\n",
    "width = 0.3\n",
    "\n",
    "#link to dataset\n",
    "df_cause.severity.plot(kind='bar', color='red', ax=ax, width=width, position=1)\n",
    "df_cause.share.plot(kind='bar', color='blue', ax=ax2, width=width, position=0)\n",
    "ax.set_ylabel('Severity')\n",
    "ax2.set_ylabel('Share')\n",
    "\n",
    "plt.show()"
   ]
  },
  {
   "cell_type": "code",
   "execution_count": 8,
   "metadata": {},
   "outputs": [
    {
     "name": "stdout",
     "output_type": "stream",
     "text": [
      " * ibm_db_sa://rkx74274:***@dashdb-txn-sbox-yp-lon02-04.services.eu-gb.bluemix.net:50000/BLUDB\n",
      "Done.\n",
      " * ibm_db_sa://rkx74274:***@dashdb-txn-sbox-yp-lon02-04.services.eu-gb.bluemix.net:50000/BLUDB\n",
      "Done.\n",
      "     Vehicle  severity  share\n",
      "0   00:00:00  0.367160  3.922\n",
      "1   01:00:00  0.384576  1.971\n",
      "2   02:00:00  0.381858  1.367\n",
      "3   03:00:00  0.451372  1.203\n",
      "4   04:00:00  0.436031  1.149\n",
      "5   05:00:00  0.366306  1.294\n",
      "6   06:00:00  0.331010  1.722\n",
      "7   07:00:00  0.306672  2.638\n",
      "8   08:00:00  0.261224  4.655\n",
      "9   09:00:00  0.250232  5.399\n",
      "10  10:00:00  0.216190  5.065\n",
      "11  11:00:00  0.233976  5.133\n",
      "12  12:00:00  0.243209  5.448\n",
      "13  13:00:00  0.268545  5.891\n",
      "14  14:00:00  0.276067  6.234\n",
      "15  15:00:00  0.309255  6.742\n",
      "16  16:00:00  0.297237  6.732\n",
      "17  17:00:00  0.300000  6.990\n",
      "18  18:00:00  0.316179  6.490\n",
      "19  19:00:00  0.326124  5.271\n",
      "20  20:00:00  0.374917  4.537\n",
      "21  21:00:00  0.392120  3.731\n",
      "22  22:00:00  0.393717  3.406\n",
      "23  23:00:00  0.389295  3.008\n"
     ]
    }
   ],
   "source": [
    "#retrive average severity and share of incidents by time\n",
    "Time_sev = %sql select TIME, SUM(SEVERITY)/COUNT(SEVERITY) from COLLISIONS group by TIME order by TIME asc\n",
    "Time_rel = %sql select COUNT(TIME)/1000 from COLLISIONS group by TIME order by TIME asc\n",
    "\n",
    "#create dataframe\n",
    "df_time = pd.DataFrame(Time_sev, columns=['Vehicle','severity'])\n",
    "df_time_rel = pd.DataFrame(Time_rel, columns=['share'])\n",
    "df_time['share'] = df_time_rel\n",
    "df_time = df_time.astype({\"severity\": float, \"share\": float})\n",
    "\n",
    "print(df_time)"
   ]
  },
  {
   "cell_type": "code",
   "execution_count": 9,
   "metadata": {},
   "outputs": [
    {
     "data": {
      "image/png": "[encoded data removed]",
      "text/plain": [
       "<Figure size 432x288 with 2 Axes>"
      ]
     },
     "metadata": {
      "needs_background": "light"
     },
     "output_type": "display_data"
    }
   ],
   "source": [
    "#create plot\n",
    "fig = plt.figure()\n",
    "ax = fig.add_subplot(111)\n",
    "ax2 = ax.twinx()\n",
    "width = 0.3\n",
    "\n",
    "#link to dataset\n",
    "df_time.severity.plot(kind='bar', color='red', ax=ax, width=width, position=1)\n",
    "df_time.share.plot(kind='bar', color='blue', ax=ax2, width=width, position=0)\n",
    "ax.set_ylabel('Severity')\n",
    "ax2.set_ylabel('Share')\n",
    "\n",
    "plt.show()"
   ]
  },
  {
   "cell_type": "code",
   "execution_count": 12,
   "metadata": {},
   "outputs": [
    {
     "name": "stdout",
     "output_type": "stream",
     "text": [
      " * ibm_db_sa://rkx74274:***@dashdb-txn-sbox-yp-lon02-04.services.eu-gb.bluemix.net:50000/BLUDB\n",
      "Done.\n",
      " * ibm_db_sa://rkx74274:***@dashdb-txn-sbox-yp-lon02-04.services.eu-gb.bluemix.net:50000/BLUDB\n",
      "Done.\n",
      "         Vehicle  severity   share\n",
      "0          BRONX  0.298664  1055.7\n",
      "1       BROOKLYN  0.312491  2112.7\n",
      "2      MANHATTAN  0.206703  1268.0\n",
      "3         QUEENS  0.289013  1892.3\n",
      "4  STATEN ISLAND  0.461589   151.0\n",
      "5           None  0.346467     0.0\n"
     ]
    }
   ],
   "source": [
    "#retrive average severity and share of incidents by borough\n",
    "Bur_sev = %sql select BOROUGH, SUM(SEVERITY)/COUNT(SEVERITY) from COLLISIONS group by BOROUGH order by BOROUGH asc\n",
    "Bur_rel = %sql select COUNT(BOROUGH)/10 from COLLISIONS group by BOROUGH order by BOROUGH asc\n",
    "\n",
    "#create dataframe\n",
    "df_bur = pd.DataFrame(Bur_sev, columns=['Vehicle','severity'])\n",
    "df_bur_rel = pd.DataFrame(Bur_rel, columns=['share'])\n",
    "df_bur['share'] = df_bur_rel\n",
    "df_bur = df_bur.astype({\"severity\": float, \"share\": float})\n",
    "\n",
    "print(df_bur)"
   ]
  },
  {
   "cell_type": "code",
   "execution_count": null,
   "metadata": {},
   "outputs": [],
   "source": []
  }
 ],
 "metadata": {
  "kernelspec": {
   "display_name": "Python",
   "language": "python",
   "name": "conda-env-python-py"
  },
  "language_info": {
   "codemirror_mode": {
    "name": "ipython",
    "version": 3
   },
   "file_extension": ".py",
   "mimetype": "text/x-python",
   "name": "python",
   "nbconvert_exporter": "python",
   "pygments_lexer": "ipython3",
   "version": "3.6.11"
  }
 },
 "nbformat": 4,
 "nbformat_minor": 4
}
