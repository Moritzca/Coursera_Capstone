{
 "cells": [
  {
   "cell_type": "markdown",
   "metadata": {
    "collapsed": true
   },
   "source": [
    "# NYC Colission Data Analysis\n"
   ]
  },
  {
   "cell_type": "markdown",
   "metadata": {},
   "source": [
    "## 1. Introduction / Business Probelm"
   ]
  },
  {
   "cell_type": "markdown",
   "metadata": {},
   "source": [
    "In the following Data Sciene Project I will be analysing NYC Collision Data. The aim of the project will be to analyse what types of vehicles and which causes of accidents result in which types of accidents. Hopefully a pattern will emerge revealing insight into how these two elements impact traffic security and collision severity. This information could be greatly usefull to the city traffic department and aid them in further specifying which issues in traffic security could have the largest impact, if resolved. For example if one specific type of vehicles involvment in accidents cuases more cyclist deaths, then this type of vehicle could be restricted from certain roads. Another exmaple could be counteracting one causes high proportion of fatal deaths by a public service campaign. It is of paramount importance to traffic managment to keep drivers, cyclists and pedestrians as safe as possible and therefore this insight could directly help them in pursuing this goal. I am aware, that the analysis and the data it is based upon are limited and non-comprehensive or -exhaustive of the issue. Nonetheless being able to link vehicle type and accident causes to resulting insuries and fatalities can aid in comprehending the issues in traffic safety and ultimatly make the city a safer place"
   ]
  },
  {
   "cell_type": "markdown",
   "metadata": {},
   "source": [
    "## 2. Data"
   ]
  },
  {
   "cell_type": "markdown",
   "metadata": {},
   "source": [
    "The Data I will be using is provided by the City of New York (https://data.cityofnewyork.us/NYC-BigApps/collisions-csv/hhsa-x92p). In this dataset includes 1.048.575 collisions having occured in NYC from April 2015 to August 2019. For each accident the data includes the folowing tags:\n",
    "- the date & time of occurrence\n",
    "- the borough & zip code it occured in\n",
    "- the number of persons killed (by pedestrian, cyclist, motorist)\n",
    "- the number of persons injured (by pedestrian, cyclist, motorist)\n",
    "- the cause of accident for each vehicle invovlved\n",
    "- the type of vehicle for each vehicle involved\n",
    "\n",
    "An example would be an accident that occured on August 6, 2019 in Manhattan in which an SUV and a bike collided due to both drivers being distracted and resulting in one cyclist being injured. For each unique incident this dataset allows an estimation of the severity (through injuries and casualties) and possible contributing factors (cause of accident and vehicle type). It also includes metadata like time and place which could also hold insights into traffic security accross the city.\n",
    "\n",
    "*Sadly, due to upload limiations I later realized I had to reduce the dataset to 100.000 entries. Never the less, the methodology will remain the same and is applicable to the complete dataset in the same way*"
   ]
  },
  {
   "cell_type": "markdown",
   "metadata": {},
   "source": [
    "## 3. Methodology\n"
   ]
  },
  {
   "cell_type": "markdown",
   "metadata": {},
   "source": [
    "### 3.1 Data preparation\n",
    "\n",
    "My first step was cleaning up the data. I especially focussed on deleting entries with little to no information, like only a time and date. Then I deleted all datasets missing the number of people injured and/or killed, since the severity of the incident was the main aspect I wanted to focus on. Next I changed the format for the \"TIME\" and \"DATE\" column to make it easier for me to analyse. Finally I went through all vehicle types noted down. There seems to be no rules on which tags the officers can note here resulting in 254 different vehicle types. For example \"DUMP\", \"DUMPT\", \"Dump truck\", and \"Dump-truck\" were all distinct tags. By consolodating these I was able to reduce the number of tags to 52.\n",
    "\n",
    "Next I descided I would be needing a target variable which summarizes the severity of every collision in one number. I therefore introduced the following variable:\n",
    "- **Overall severity** (number of people injured + 3x number of people killed)\n",
    "\n",
    "### 3.2 Set-Up\n",
    "\n",
    "With the readyily prepared dataset I went to work on setting up my work environment. I uploaded the .csv to IBM Db2. Then I set up a Skills Network Lab Jupyter Notebook and linked the dataset to my notebook. Finally I imported all the Python modules I would be needing and was ready to go to dive into my analysis.\n",
    "\n",
    "### 3.3 Calculation\n",
    "\n",
    "I quickly descided I was going to find out how a multitude of variables impacted the severity of accidents. I addition I wanted to see which share the resprective varaiable had of all accidents to make sure to not take into account singular outliers. Therefor I descided I would be needing 2 factors for every aspect I was going to be taking into account:\n",
    "- **Average Severity**: this meant grouping the entries by tags in respect to the variable I was analysing and then dividing the sum of their severity scores by the total number of incidents with ths specific tag\n",
    "- **Relativ collision share**: this also included grouping the entries by tags in respect to the currently analysed variable. Then I divided the size of every tags group by the toatl amount of incidents recorded. Here there was the special challenge of taking into account that some collions were not tagged in every categroy, thereby distorting the realtive collision share with the amount of blank tags\n",
    "I descided to calculate the same factors for every variable to maintain comparability and reduce complexity in the results which could lead to false conclusions.\n",
    "\n",
    "### 3.4 Variables\n",
    "\n",
    "Having descided on my factors I moved on to desciding upon which varibales I was going to take into account. I settled on the following:\n",
    "- **Vehicle type**: This indicator was going to show me if the type of vehicle causing *(not equivilant to invovlved in)* the accident had an impact on its severity and if there was vehicle types especially prone to (severe) accidents.\n",
    "- **Cause**: This indicator was going to decipher which causes resulted in the most/the most severe accidents\n",
    "- **Time**: This indicator was going to show how amount and severity of collisions changed throughout the day\n",
    "- **Borough**: Finally, I wanted to find out which parts of NYC had the most/most severe accidents\n",
    "\n",
    "With these variables and means of calculating them I went about reading out the **SQL Database**, generating **pandas** daataframes and visualizing my findings with **Mathplotlib** The results will be displayed in the following section\n",
    "\n"
   ]
  },
  {
   "cell_type": "markdown",
   "metadata": {},
   "source": [
    "# 4 Results"
   ]
  },
  {
   "cell_type": "markdown",
   "metadata": {},
   "source": [
    "### 4.1 Vehicle type\n",
    "I first focussed on the **vehicle type** I calculated the relative severity scores by entry and the share of overall colissions by entry. I was trying to find out if their is any obvious clusters which seem to result in very high severity scores. The results were the following:\n",
    "\n",
    "\n",
    "Since I was not able to post the visualization (see code documentation) here, I will describe my findings:\n",
    "- **SUVs (48.5%)** and **Sedans (36.8%)** make up over **85%** of the collisions in the dataset. The two have a relativly similar severity score averaging at about **0.3**\n",
    "- Of the vehicles making up at least 0,5% of the collisions *(for the others the amount of entries was deemed to low to retrive comparable data)* **Bikes and motorcycles** averaged the highgest severity score with **0.88** and **0.64** respectivley. On the other end of the scale **Box trucks** and **tractors** (Yes, it's NYC we're talking about here) ranked the lowest with **~0.14**\n",
    "- **Taxis** ranked almost **10% higher** on the average severity compared to **SUVs and Sedans** although these are mostly the vehicles the consist of\n",
    "- With a average severity of **0.98 E-bikes** ranked almost **10% higher** than normal **bikes**\n",
    "- Of all vehicles tracked **Armored trucks** ranked the lowest with a severity of **0**. This is however distorted by the low amount of entries (only 0,02% of analysed collisions)\n",
    "- Considering the three emergency services, **NYPD(0.2)** beat **NYFD (0.238)** and **ambulances(0.266)** on severity and share of recorded incidents: **0.005%, 0.042%, 0.248%** respectivly *(There might however be a bias rooting from the NYPD creating these records)*\n",
    "\n",
    "And a bonus one for the end:\n",
    "- With the highest average severity in the dataset a **horse** took the lead with an a staggering value of **1.0**. This could however be traced to the fact, that only a single incident with this *vehicle type* exists which injured one person.\n"
   ]
  },
  {
   "cell_type": "markdown",
   "metadata": {},
   "source": [
    "### 4.2 Cause\n",
    "\n",
    "After completing my analysis on vehicle types I moved on to analysing the average severity and share of overall collisions by **cause of accident'' as noted down by the NYPD. Here I was also not able to post my visualization. Therefore, I will describe the results here:\n",
    "\n",
    "- Overall there is **54 distinct types** of causes noted. However around 40 of these make up **less than 1%** of collisions noted respectivly. Therefore, we will especially focus on the others accounting for a cumulative **93%** of all incidents. Of these **Driver Inattention** is the most frequent **(26.5%)**, for a further **23.3%** of collisions no cause was specified and not following so closely, the next largest share comes from **Following to Closely (9.05%)** ;)\n",
    "- The most severe of the frequent causes with **0.71** and **0.69** average severity respectivley were **Traffic Control Regard** and **Unsafe Speed**. By far the least severe  was **Passing to Closely** with an average severity of only 0.07\n",
    "- Of all causes there is five causes with an average severity over 1 (therefore on average injuring one person every incident or killing one every third collision). Of these **Lost Concience** and **Illness** are the most prevelant with a share of incidents of around **0.1%**\n",
    "- **Hand-held Cellphoning** accounts for about **0.03% of accidents**, but **Hands-free Cellphoning** is the cause in another **0.08%**. However, **Hand-held Celphoning** is almost 4x as dangerous with an average severity of **0.48**\n",
    "- The causes **Prescription Medication, Illegal Drugs and Alcohol involvment** cumulativly cause 1.05% of collisions. **Prescription Medication** is however on average almost **4x (0.167 vs. 0.623)** less severe than **Illegal Drugs**"
   ]
  },
  {
   "cell_type": "markdown",
   "metadata": {},
   "source": [
    "### 4.3 Timing\n",
    "\n",
    "As another aspect I looked into the **time** for the share of collisions and their average sevrity throughout the day.\n",
    "- The most severe accidents happen between **3:00 and 5:00am**. From there the average severity continuously declines until it reaches its minimum of **0.22** at around **10:00am**. From there it rises again and levels out with aroung **0.39** at **9:00pm** only to jump to **0.45** at 3:00am when the first morning commuters start their day again.\n",
    "- The share of collisions however, reaches its lowest at around **4:00**am rising thorughout the day until at **5:00** peaking with a share of **7%** of accidents taking place in that hour *(1/24h is 4.2%)*"
   ]
  },
  {
   "cell_type": "markdown",
   "metadata": {},
   "source": [
    "### 4.4 Borough\n",
    "\n",
    "Finally I looked into how the accidents are spread out accross the cities **boroughs**:\n",
    "- **Staten Islands** only makes up **2.78%** of incidents recorded, however the most severe ones averaging at **0.46**. Brooklyn is slightly safe with an average severity of **0.31** but makes up almost **40%** of all incidents. **Manhattans** accidents are the least severe scoring **0.207** on average."
   ]
  },
  {
   "cell_type": "markdown",
   "metadata": {},
   "source": [
    "# 5 Discusion\n",
    "\n",
    "The results recieved from this dataset thorugh the analysis show how data can be transformed to information with very basic measures. Some obvious and commonly known statements could be re-proven. For example that motorcyclist and bike riders are especially prone to severe accidents. Also that the number of accidents runs in sync with the general commuters hours seems very obvious. But the analysis was also able to discern more concrete connections. I will know describe the 4 most important and how the city can use this information to improve its traffic safety:\n",
    "\n",
    "1. **Driver inatention causes more than 1 in 4 accidents in NYC**. Seemingly simply not paying proper attention causes the most accidents. This number might be slightly distorted since the term inattention is fairly broad, but none the less, the share of all collisions is stagering. Also taking into account that accidents in the morning and evening hours are often far more severe and this is the time when the attention recedes, there is serious issue to tackle. The city should try to improve attention by constrcting roads with reflective signs and good marking enabeling the driver to remain focussed more easily. Secondly a public service announcement reiterating the problem and dramatizing its consequences might help reduce the risk.\n",
    "\n",
    "2. **Taxis cause 3.8% of collisions which are 10% more severe than comparable vehicles** Even though they only make a small portion of vehicles in the city taxis accidents are frequent and often times severe. With the NYPD keeping a specific focus on these highly visible cars and maybe encouraging passengers in reporting malicious driving might help decrease the discrepancy between \"normal\" accidents and ones involving cabs.\n",
    "\n",
    "3. **Traffic control disregard and unsafe speed cause accidents that are twice as severe than average**. Accidents with this cause have an average severity of arounf 0.7 which is far above average. Therefore special attention should be put on punishing these incidents by the police and city regulators. Acknowlading that driving fast and ignoring the rules is not enertaining but deadly might come to a suprise for some drivers. Making them pay for violating this proven risk could actually have an impact.\n",
    "\n",
    "4. **Incidents in Manhattan are half as severe as ones in Staten Island**. Manhattan and SI ar edifferent in multiple ways and this also shows in the amount and severity of incidents happening in the respective boroughs. None the less, this dsicrepancy musn't be and getting to the bottom of it's cause (possibly type of traffic, type of roads, speed limits...) could help administrators in both areas cooperate and learn from eachothers insights. Having manifested the problem in hard numbers is only the first step in solving it.\n"
   ]
  },
  {
   "cell_type": "markdown",
   "metadata": {},
   "source": [
    "# 6 Conclusion\n",
    "\n",
    "The key takeaway from this report is showing, that the data provided is an extremly valuable ressource. It has displayed a variety of causes and effects impacting the traffic system of NYC. Not taking its findings to account would be wasteful. However, ending the analysis here would be even more senseless. This dataset still contains insights in a magnitude which cannot be estimated right now. Firstly only 100.000 of over 1 million entries were analysed. Secondly factors like types of cars involved but not causing accidents weren't taken into account. Another point is that the interdependencies between the factors weren't highlighted. For example it could be very interesting to find out which type of vehicle and what time of day cause the most severe accidents to aid regulators in targeted acctions.\n",
    "\n",
    "Ultimatly this report has offered a glimpse into some insights to be gained from the dataset but can only be the beginning of a more exhaustive analysis.\n",
    "\n",
    "Thanks for reading;)"
   ]
  },
  {
   "cell_type": "code",
   "execution_count": null,
   "metadata": {},
   "outputs": [],
   "source": []
  }
 ],
 "metadata": {
  "kernelspec": {
   "display_name": "Python 3.6",
   "language": "python",
   "name": "python3"
  },
  "language_info": {
   "codemirror_mode": {
    "name": "ipython",
    "version": 3
   },
   "file_extension": ".py",
   "mimetype": "text/x-python",
   "name": "python",
   "nbconvert_exporter": "python",
   "pygments_lexer": "ipython3",
   "version": "3.6.9"
  }
 },
 "nbformat": 4,
 "nbformat_minor": 1
}
